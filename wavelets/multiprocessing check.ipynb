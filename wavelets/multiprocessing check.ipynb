{
 "cells": [
  {
   "cell_type": "code",
   "execution_count": 10,
   "metadata": {
    "collapsed": true
   },
   "outputs": [],
   "source": [
    "from multiprocessing import Pool\n",
    "import pandas as pd\n",
    "import numpy as np"
   ]
  },
  {
   "cell_type": "code",
   "execution_count": 11,
   "metadata": {
    "collapsed": true
   },
   "outputs": [],
   "source": [
    "data = None\n",
    "\n",
    "def init(_data):\n",
    "    \"\"\" Init which makes data available in all children\n",
    "    \n",
    "        This will induce a copy on Windows but Linux fork uses\n",
    "        copy-on-write semantics to send data to process children so\n",
    "        as long as you don't write to the data there shouldn't be a\n",
    "        wholesale copy\n",
    "    \"\"\"\n",
    "    global data\n",
    "    data = _data "
   ]
  },
  {
   "cell_type": "code",
   "execution_count": 37,
   "metadata": {
    "collapsed": false
   },
   "outputs": [],
   "source": [
    "import time\n",
    "\n",
    "def foo(i):\n",
    "    acc = 0\n",
    "    for j in range(1000000):\n",
    "        acc += j\n",
    "    return acc, data[i]"
   ]
  },
  {
   "cell_type": "code",
   "execution_count": 38,
   "metadata": {
    "collapsed": true
   },
   "outputs": [],
   "source": [
    "data = pd.Series(np.random.randint(0, 10, size=100000))"
   ]
  },
  {
   "cell_type": "code",
   "execution_count": 39,
   "metadata": {
    "collapsed": true
   },
   "outputs": [],
   "source": [
    "pool = Pool(6, initializer=init, initargs=(data,))"
   ]
  },
  {
   "cell_type": "code",
   "execution_count": 40,
   "metadata": {
    "collapsed": false
   },
   "outputs": [
    {
     "data": {
      "text/plain": [
       "[(499999500000, 4),\n",
       " (499999500000, 8),\n",
       " (499999500000, 6),\n",
       " (499999500000, 6),\n",
       " (499999500000, 2),\n",
       " (499999500000, 4),\n",
       " (499999500000, 9),\n",
       " (499999500000, 9),\n",
       " (499999500000, 1),\n",
       " (499999500000, 0),\n",
       " (499999500000, 6),\n",
       " (499999500000, 6),\n",
       " (499999500000, 5),\n",
       " (499999500000, 6),\n",
       " (499999500000, 4),\n",
       " (499999500000, 7),\n",
       " (499999500000, 9),\n",
       " (499999500000, 1),\n",
       " (499999500000, 5),\n",
       " (499999500000, 0),\n",
       " (499999500000, 3),\n",
       " (499999500000, 1),\n",
       " (499999500000, 0),\n",
       " (499999500000, 0),\n",
       " (499999500000, 8),\n",
       " (499999500000, 6),\n",
       " (499999500000, 6),\n",
       " (499999500000, 9),\n",
       " (499999500000, 4),\n",
       " (499999500000, 8)]"
      ]
     },
     "execution_count": 40,
     "metadata": {},
     "output_type": "execute_result"
    }
   ],
   "source": [
    "pool.map(foo, np.random.randint(0, len(data), size=30))"
   ]
  },
  {
   "cell_type": "code",
   "execution_count": null,
   "metadata": {
    "collapsed": true
   },
   "outputs": [],
   "source": []
  }
 ],
 "metadata": {
  "kernelspec": {
   "display_name": "Python 3",
   "language": "python",
   "name": "python3"
  },
  "language_info": {
   "codemirror_mode": {
    "name": "ipython",
    "version": 3
   },
   "file_extension": ".py",
   "mimetype": "text/x-python",
   "name": "python",
   "nbconvert_exporter": "python",
   "pygments_lexer": "ipython3",
   "version": "3.4.3"
  }
 },
 "nbformat": 4,
 "nbformat_minor": 0
}
